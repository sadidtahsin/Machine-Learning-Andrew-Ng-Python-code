{
 "cells": [
  {
   "cell_type": "code",
   "execution_count": 748,
   "metadata": {
    "collapsed": true
   },
   "outputs": [],
   "source": [
    "%matplotlib inline\n",
    "import numpy as np\n",
    "import pandas as pd\n",
    "import matplotlib.pyplot as plt"
   ]
  },
  {
   "cell_type": "code",
   "execution_count": 749,
   "metadata": {
    "collapsed": true
   },
   "outputs": [],
   "source": [
    "df=pd.read_csv('ex2data2.txt',header=None)"
   ]
  },
  {
   "cell_type": "code",
   "execution_count": 750,
   "metadata": {
    "collapsed": true
   },
   "outputs": [],
   "source": [
    "def getX_y(df):\n",
    "    X= df.iloc[:,:-1].values\n",
    "    y= df.iloc[:,-1:].values\n",
    "    return X,y"
   ]
  },
  {
   "cell_type": "code",
   "execution_count": 751,
   "metadata": {
    "collapsed": true
   },
   "outputs": [],
   "source": [
    "X,y = getX_y(df)"
   ]
  },
  {
   "cell_type": "code",
   "execution_count": 752,
   "metadata": {
    "collapsed": true
   },
   "outputs": [],
   "source": [
    "def plotData(X,y):\n",
    "    pos = np.where(y==1)[0]\n",
    "    neg = np.where(y==0)[0]\n",
    "    plt.figure(figsize=(10,6))\n",
    "    plt.plot(X[pos,0],X[pos,1],'b+',markersize=8)\n",
    "    plt.plot(X[neg,0],X[neg,1],'yo',markersize=8)\n",
    "    plt.grid(True) #Always plot.grid true!\n",
    "    plt.ylabel('Microchip Test 2')\n",
    "    plt.xlabel('Microchip Test 1')"
   ]
  },
  {
   "cell_type": "code",
   "execution_count": 753,
   "metadata": {},
   "outputs": [
    {
     "data": {
      "image/png": "[encoded data removed]",
      "text/plain": [
       "<matplotlib.figure.Figure at 0x114404160>"
      ]
     },
     "metadata": {},
     "output_type": "display_data"
    }
   ],
   "source": [
    "plotData(X,y)"
   ]
  },
  {
   "cell_type": "code",
   "execution_count": 754,
   "metadata": {
    "collapsed": true
   },
   "outputs": [],
   "source": [
    "def mapFeature(X1, X2):\n",
    "    m= X1.size\n",
    "    degree = 6\n",
    "    out = np.ones((m,1))\n",
    "    \n",
    "    for i in range(1, degree+1):\n",
    "        for j in range (i+1):\n",
    "            p= np.multiply(np.power(X1,(i-j)),np.power(X2,j))\n",
    "            out= np.append(out,p,axis=1)\n",
    "    return out\n",
    "            "
   ]
  },
  {
   "cell_type": "code",
   "execution_count": 755,
   "metadata": {},
   "outputs": [],
   "source": [
    "m = X.shape[0]\n",
    "X1= X[:,0].reshape(m,1)\n",
    "X2= X[:,1].reshape(m,1)\n",
    "X=mapFeature(X1,X2 )"
   ]
  },
  {
   "cell_type": "code",
   "execution_count": 756,
   "metadata": {},
   "outputs": [],
   "source": [
    "initial_theta = np.zeros((X.shape[1],1))\n",
    "lambdas = 1"
   ]
  },
  {
   "cell_type": "code",
   "execution_count": 757,
   "metadata": {
    "collapsed": true
   },
   "outputs": [],
   "source": [
    "def sigmoid(x):\n",
    "    return 1 / (1 + np.exp(-x))"
   ]
  },
  {
   "cell_type": "code",
   "execution_count": 758,
   "metadata": {},
   "outputs": [],
   "source": [
    "def costFunctionReg(theta, X, y, lambdas):\n",
    "    m = y.size\n",
    "    J = 0;\n",
    "    grad = np.zeros(theta.size)\n",
    "    p1= -1*np.multiply(y,(np.log(sigmoid(np.matmul(X,theta)))))\n",
    "    p2= np.multiply((1-y),(np.log(1-sigmoid(np.matmul(X,theta)))))\n",
    "    s=(lambdas /(2*m))*np.sum(np.power(theta[1:theta.size],2))\n",
    "    J= np.sum(p1-p2)/m+s\n",
    "    grad= np.matmul(np.transpose(X) , (sigmoid(np.matmul(X, theta)) - y)) * (1/m);\n",
    "    s= np.multiply((lambdas/m),theta)\n",
    "    grad[1:,0]= grad[1:,0]+s[1:,0]\n",
    "    grad.reshape(theta.size,1)\n",
    "    return J, grad"
   ]
  },
  {
   "cell_type": "code",
   "execution_count": 759,
   "metadata": {},
   "outputs": [],
   "source": [
    "cost, grad = costFunctionReg(initial_theta, X, y, 1)"
   ]
  },
  {
   "cell_type": "code",
   "execution_count": 760,
   "metadata": {},
   "outputs": [
    {
     "name": "stdout",
     "output_type": "stream",
     "text": [
      "Cost at initial theta (zeros): %f 0.6931471805599454\n",
      "Expected cost (approx): 0.693\n",
      "Gradient at initial theta (zeros) - first five values only:\n",
      " %f \n",
      " [0.00847457627118644, 0.018788093220338975, 7.77711864406773e-05, 0.05034463953635592, 0.011501330787338985]\n",
      "Expected gradients (approx) - first five values only:\n",
      " 0.0085\n",
      " 0.0188\n",
      " 0.0001\n",
      " 0.0503\n",
      " 0.0115\n",
      "\n"
     ]
    }
   ],
   "source": [
    "print('Cost at initial theta (zeros): %f', cost);\n",
    "print('Expected cost (approx): 0.693');\n",
    "print('Gradient at initial theta (zeros) - first five values only:');\n",
    "print(' %f \\n', [grad[i,0] for i in range(5)])\n",
    "print('Expected gradients (approx) - first five values only:');\n",
    "print(' 0.0085\\n 0.0188\\n 0.0001\\n 0.0503\\n 0.0115\\n');"
   ]
  },
  {
   "cell_type": "code",
   "execution_count": 761,
   "metadata": {},
   "outputs": [],
   "source": [
    "test_theta = np.ones((X.shape[1],1))\n",
    "cost, test_theta= costFunctionReg(test_theta, X, y, 10)"
   ]
  },
  {
   "cell_type": "code",
   "execution_count": 762,
   "metadata": {},
   "outputs": [
    {
     "name": "stdout",
     "output_type": "stream",
     "text": [
      "Cost at initial theta (zeros): %f 3.1645093316150095\n",
      "Expected cost (approx): 3.16\n",
      "Gradient at initial theta (zeros) - first five values only:\n",
      " %f \n",
      " [0.34604507367924525, 0.1613519192809116, 0.19479575561199702, 0.22686278222504966, 0.09218567510329179]\n",
      "Expected gradients (approx) - first five values only:\n",
      " 0.3460\n",
      " 0.1614\n",
      " 0.1948\n",
      " 0.2269\n",
      " 0.0922\n",
      "\n"
     ]
    }
   ],
   "source": [
    "print('Cost at initial theta (zeros): %f', cost);\n",
    "print('Expected cost (approx): 3.16');\n",
    "print('Gradient at initial theta (zeros) - first five values only:');\n",
    "print(' %f \\n', [test_theta[i,0] for i in range(5)])\n",
    "print('Expected gradients (approx) - first five values only:');\n",
    "print(' 0.3460\\n 0.1614\\n 0.1948\\n 0.2269\\n 0.0922\\n');"
   ]
  },
  {
   "cell_type": "code",
   "execution_count": 763,
   "metadata": {},
   "outputs": [],
   "source": [
    "def plotDecisionBoundary(X,y,theta):\n",
    "    plotData(X[:,[1,2]], y)\n",
    "    u = np.linspace(-1, 1.5, 50)\n",
    "    v = np.linspace(-1, 1.5, 50)\n",
    "    z = np.zeros((u.size, v.size))\n",
    "    for i in range(u.size):\n",
    "        for j in range(v.size):\n",
    "            z[i,j]=np.matmul(mapFeature(u[i].reshape(1,1), v[j].reshape(1,1)),theta)\n",
    "    z= np.transpose(z)\n",
    "    plt.contour(u, v, z,linewidths=2)\n"
   ]
  },
  {
   "cell_type": "code",
   "execution_count": null,
   "metadata": {},
   "outputs": [],
   "source": []
  },
  {
   "cell_type": "code",
   "execution_count": 769,
   "metadata": {
    "collapsed": true
   },
   "outputs": [],
   "source": [
    "def predict(theta, X):\n",
    "    m=X.shape[0]\n",
    "    p=sigmoid(np.matmul(X , theta))\n",
    "    p[p >=.5]=1\n",
    "    p[p <.5]=0\n",
    "    return p"
   ]
  },
  {
   "cell_type": "code",
   "execution_count": null,
   "metadata": {},
   "outputs": [],
   "source": []
  },
  {
   "cell_type": "code",
   "execution_count": 765,
   "metadata": {},
   "outputs": [],
   "source": [
    "df=pd.read_csv('theta.txt',header=None)"
   ]
  },
  {
   "cell_type": "code",
   "execution_count": 766,
   "metadata": {
    "collapsed": true
   },
   "outputs": [],
   "source": [
    "the=df.values"
   ]
  },
  {
   "cell_type": "code",
   "execution_count": 767,
   "metadata": {},
   "outputs": [
    {
     "data": {
      "image/png": "[encoded data removed]",
      "text/plain": [
       "<matplotlib.figure.Figure at 0x114ce3f60>"
      ]
     },
     "metadata": {},
     "output_type": "display_data"
    }
   ],
   "source": [
    "plotDecisionBoundary(X,y,the)"
   ]
  },
  {
   "cell_type": "code",
   "execution_count": 805,
   "metadata": {},
   "outputs": [
    {
     "name": "stdout",
     "output_type": "stream",
     "text": [
      "Train Accuracy:  83.05084745762711\n",
      "Expected accuracy (with lambda = 1): 83.1 (approx)\n",
      "\n"
     ]
    }
   ],
   "source": [
    "p = predict(the, X)\n",
    "\n",
    "print('Train Accuracy: ', np.mean((p[:,0]==y[:,0]))*100)\n",
    "print('Expected accuracy (with lambda = 1): 83.1 (approx)\\n');\n"
   ]
  },
  {
   "cell_type": "code",
   "execution_count": 691,
   "metadata": {},
   "outputs": [],
   "source": [
    "def gradientDescent(X, y, theta, lambdas, num_iters):\n",
    "    m = y.size\n",
    "    for i in range(num_iters):\n",
    "#         print(lambdas/m)\n",
    "        theta=  theta-((lambdas/m)*np.matmul(np.transpose(X),(sigmoid(np.matmul(X, theta)-y))))\n",
    "#         print(theta-np.matmul(np.transpose(X),(sigmoid(np.matmul(X, theta)-y))))\n",
    "    return theta"
   ]
  },
  {
   "cell_type": "code",
   "execution_count": 739,
   "metadata": {},
   "outputs": [
    {
     "data": {
      "text/plain": [
       "array([[-1.00519311e+01],\n",
       "       [ 1.16371247e-01],\n",
       "       [-2.53101679e-01],\n",
       "       [-2.34930516e+00],\n",
       "       [ 1.25350264e-01],\n",
       "       [-2.57033116e+00],\n",
       "       [-2.94106150e-01],\n",
       "       [-1.20538659e-01],\n",
       "       [-1.33392324e-01],\n",
       "       [-7.19647978e-01],\n",
       "       [-1.11041912e+00],\n",
       "       [ 3.34546602e-02],\n",
       "       [-4.25799252e-01],\n",
       "       [ 8.22734709e-02],\n",
       "       [-1.34719658e+00],\n",
       "       [-3.36897960e-01],\n",
       "       [-6.37956992e-02],\n",
       "       [-7.04326897e-02],\n",
       "       [-1.12335357e-01],\n",
       "       [-5.79047027e-02],\n",
       "       [-7.15678652e-01],\n",
       "       [-6.84218259e-01],\n",
       "       [ 6.81565794e-03],\n",
       "       [-1.59375279e-01],\n",
       "       [ 1.63281116e-02],\n",
       "       [-1.80829579e-01],\n",
       "       [ 4.58801343e-02],\n",
       "       [-9.50641016e-01]])"
      ]
     },
     "execution_count": 739,
     "metadata": {},
     "output_type": "execute_result"
    }
   ],
   "source": [
    "t=gradientDescent(X, y, initial_theta, 15, 9000)\n",
    "t"
   ]
  },
  {
   "cell_type": "code",
   "execution_count": 699,
   "metadata": {},
   "outputs": [
    {
     "data": {
      "text/plain": [
       "array([[4.50470364e-05],\n",
       "       [4.64452407e-05],\n",
       "       [3.99996583e-05],\n",
       "       [6.69006907e-05],\n",
       "       [5.35747091e-05],\n",
       "       [8.14041588e-05],\n",
       "       [1.20496940e-04],\n",
       "       [1.31654889e-04],\n",
       "       [1.29332577e-04],\n",
       "       [1.01567175e-04],\n",
       "       [6.74406769e-05],\n",
       "       [5.40063987e-05],\n",
       "       [6.19354898e-05],\n",
       "       [4.18157063e-05],\n",
       "       [5.50540066e-05],\n",
       "       [6.45493193e-05],\n",
       "       [8.67059506e-05],\n",
       "       [2.05761924e-05],\n",
       "       [4.02112827e-05],\n",
       "       [3.23553166e-05],\n",
       "       [2.55158637e-05],\n",
       "       [4.94378995e-05],\n",
       "       [7.37300268e-05],\n",
       "       [1.00755617e-04],\n",
       "       [1.25423351e-04],\n",
       "       [7.71898634e-05],\n",
       "       [6.15777434e-05],\n",
       "       [3.02511156e-05],\n",
       "       [8.03988269e-05],\n",
       "       [2.08398530e-05],\n",
       "       [3.95823773e-06],\n",
       "       [2.11659553e-05],\n",
       "       [5.19910858e-05],\n",
       "       [8.49080715e-05],\n",
       "       [1.03327143e-04],\n",
       "       [1.42123418e-04],\n",
       "       [1.41304453e-04],\n",
       "       [1.65003180e-04],\n",
       "       [1.71358162e-04],\n",
       "       [1.17500228e-04],\n",
       "       [1.41967594e-04],\n",
       "       [1.06741629e-04],\n",
       "       [6.66138625e-05],\n",
       "       [1.22633474e-04],\n",
       "       [7.21453807e-05],\n",
       "       [7.79908165e-05],\n",
       "       [3.00196141e-05],\n",
       "       [8.75454103e-05],\n",
       "       [3.54053842e-05],\n",
       "       [3.92170230e-05],\n",
       "       [7.73867129e-05],\n",
       "       [1.26841111e-04],\n",
       "       [8.11010302e-05],\n",
       "       [1.20397458e-04],\n",
       "       [1.50020593e-04],\n",
       "       [1.00052077e-04],\n",
       "       [1.57371381e-04],\n",
       "       [1.46077909e-04],\n",
       "       [6.75294021e-06],\n",
       "       [2.55499220e-05],\n",
       "       [5.73799643e-05],\n",
       "       [1.80149840e-05],\n",
       "       [1.49946202e-05],\n",
       "       [3.09040129e-05],\n",
       "       [2.01676085e-05],\n",
       "       [8.37267888e-06],\n",
       "       [2.29613020e-05],\n",
       "       [8.16249997e-06],\n",
       "       [1.04320729e-05],\n",
       "       [1.96591877e-05],\n",
       "       [1.33461411e-05],\n",
       "       [1.52728741e-05],\n",
       "       [1.25524329e-05],\n",
       "       [1.43383139e-05],\n",
       "       [2.01252827e-05],\n",
       "       [4.53152864e-05],\n",
       "       [8.04988101e-05],\n",
       "       [6.86859456e-05],\n",
       "       [3.76158115e-05],\n",
       "       [4.78295073e-05],\n",
       "       [8.51800552e-05],\n",
       "       [1.13458920e-04],\n",
       "       [8.56312281e-05],\n",
       "       [1.08074487e-04],\n",
       "       [3.69215390e-05],\n",
       "       [4.99516990e-05],\n",
       "       [3.08198472e-05],\n",
       "       [1.13571880e-05],\n",
       "       [2.67605838e-05],\n",
       "       [5.22862159e-06],\n",
       "       [4.33747140e-06],\n",
       "       [1.80921255e-05],\n",
       "       [2.73128709e-05],\n",
       "       [8.29575786e-06],\n",
       "       [3.31012235e-06],\n",
       "       [5.39949445e-07],\n",
       "       [7.00614334e-07],\n",
       "       [1.44240560e-05],\n",
       "       [3.70047098e-06],\n",
       "       [6.94282697e-06],\n",
       "       [1.89714253e-05],\n",
       "       [2.07884956e-06],\n",
       "       [8.76444766e-05],\n",
       "       [6.56325312e-05],\n",
       "       [1.28301157e-04],\n",
       "       [8.38162835e-05],\n",
       "       [1.01384943e-04],\n",
       "       [1.43694770e-04],\n",
       "       [6.93935009e-05],\n",
       "       [5.37943535e-05],\n",
       "       [5.24596308e-05],\n",
       "       [4.42057172e-05],\n",
       "       [1.96153574e-05],\n",
       "       [1.97300535e-05],\n",
       "       [3.83289595e-05],\n",
       "       [1.48899780e-06],\n",
       "       [3.15878142e-06],\n",
       "       [7.35018674e-05]])"
      ]
     },
     "execution_count": 699,
     "metadata": {},
     "output_type": "execute_result"
    }
   ],
   "source": [
    "sigmoid(np.matmul(X , t))"
   ]
  },
  {
   "cell_type": "code",
   "execution_count": 623,
   "metadata": {},
   "outputs": [
    {
     "data": {
      "text/plain": [
       "(28, 118)"
      ]
     },
     "execution_count": 623,
     "metadata": {},
     "output_type": "execute_result"
    }
   ],
   "source": [
    "np.transpose(X).shape"
   ]
  },
  {
   "cell_type": "code",
   "execution_count": 771,
   "metadata": {},
   "outputs": [
    {
     "name": "stderr",
     "output_type": "stream",
     "text": [
      "/Users/TAMIM_/anaconda3/lib/python3.6/site-packages/h5py/__init__.py:34: FutureWarning: Conversion of the second argument of issubdtype from `float` to `np.floating` is deprecated. In future, it will be treated as `np.float64 == np.dtype(float).type`.\n",
      "  from ._conv import register_converters as _register_converters\n"
     ]
    }
   ],
   "source": [
    "import tensorflow as tf"
   ]
  },
  {
   "cell_type": "code",
   "execution_count": 781,
   "metadata": {
    "collapsed": true
   },
   "outputs": [],
   "source": [
    "x = tf.Variable(X, name='x', dtype=tf.float32)\n",
    "log_x = tf.log(x)\n",
    "log_x_squared = tf.square(log_x)"
   ]
  },
  {
   "cell_type": "code",
   "execution_count": 783,
   "metadata": {},
   "outputs": [],
   "source": [
    "optimizer = tf.train.GradientDescentOptimizer(0.5)\n",
    "train = optimizer.minimize(log_x_squared)"
   ]
  },
  {
   "cell_type": "code",
   "execution_count": 776,
   "metadata": {},
   "outputs": [
    {
     "data": {
      "text/plain": [
       "<tf.Operation 'GradientDescent' type=NoOp>"
      ]
     },
     "execution_count": 776,
     "metadata": {},
     "output_type": "execute_result"
    }
   ],
   "source": [
    "train"
   ]
  },
  {
   "cell_type": "code",
   "execution_count": 784,
   "metadata": {},
   "outputs": [],
   "source": [
    "init = tf.initialize_all_variables()"
   ]
  },
  {
   "cell_type": "code",
   "execution_count": 798,
   "metadata": {
    "collapsed": true
   },
   "outputs": [],
   "source": [
    "def optimize():\n",
    "    with tf.Session() as session:\n",
    "        session.run(init)\n",
    "#         print(\"starting at\", \"x:\", session.run(x), \"log(x)^2:\", session.run(log_x_squared))\n",
    "        for step in range(10):  \n",
    "            session.run(train)\n",
    "#             print(\"step\", step, \"x:\", session.run(x))\n",
    "        return session.run(x)"
   ]
  },
  {
   "cell_type": "code",
   "execution_count": 802,
   "metadata": {},
   "outputs": [],
   "source": [
    "ts=optimize()[0].reshape(28,1)"
   ]
  },
  {
   "cell_type": "code",
   "execution_count": 803,
   "metadata": {},
   "outputs": [
    {
     "data": {
      "text/plain": [
       "array([[1.0000000e+00],\n",
       "       [5.7364670e+01],\n",
       "       [1.0000000e+00],\n",
       "       [2.2605222e+03],\n",
       "       [9.2390335e+01],\n",
       "       [1.0000000e+00],\n",
       "       [6.6140500e+04],\n",
       "       [3.4256975e+03],\n",
       "       [1.4660735e+02],\n",
       "       [1.0008162e+00],\n",
       "       [1.7201580e+06],\n",
       "       [9.8336383e+04],\n",
       "       [5.1747349e+03],\n",
       "       [2.3013467e+02],\n",
       "       [3.2988443e+00],\n",
       "       [4.1941164e+07],\n",
       "       [2.5328512e+06],\n",
       "       [1.4598734e+05],\n",
       "       [7.7942251e+03],\n",
       "       [3.5821442e+02],\n",
       "       [8.7468424e+00],\n",
       "       [9.8171130e+08],\n",
       "       [6.1395824e+07],\n",
       "       [3.7263250e+06],\n",
       "       [2.1643002e+05],\n",
       "       [1.1709239e+04],\n",
       "       [5.5375452e+02],\n",
       "       [1.6950331e+01]], dtype=float32)"
      ]
     },
     "execution_count": 803,
     "metadata": {},
     "output_type": "execute_result"
    }
   ],
   "source": [
    "ts"
   ]
  },
  {
   "cell_type": "code",
   "execution_count": null,
   "metadata": {
    "collapsed": true
   },
   "outputs": [],
   "source": []
  }
 ],
 "metadata": {
  "kernelspec": {
   "display_name": "Python 3",
   "language": "python",
   "name": "python3"
  },
  "language_info": {
   "codemirror_mode": {
    "name": "ipython",
    "version": 3
   },
   "file_extension": ".py",
   "mimetype": "text/x-python",
   "name": "python",
   "nbconvert_exporter": "python",
   "pygments_lexer": "ipython3",
   "version": "3.6.3"
  }
 },
 "nbformat": 4,
 "nbformat_minor": 2
}
