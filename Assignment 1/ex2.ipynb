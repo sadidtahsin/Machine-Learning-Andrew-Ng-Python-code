{
 "cells": [
  {
   "cell_type": "code",
   "execution_count": 775,
   "metadata": {
    "collapsed": true
   },
   "outputs": [],
   "source": [
    "%matplotlib inline\n",
    "import numpy as np\n",
    "import matplotlib.pyplot as plt\n",
    "np.set_printoptions(precision=4)"
   ]
  },
  {
   "cell_type": "code",
   "execution_count": 776,
   "metadata": {
    "collapsed": true
   },
   "outputs": [],
   "source": [
    "datafile = 'ex1data2.txt'\n",
    "col= np.loadtxt(datafile,delimiter=',',usecols=(0,1,2),unpack=True)\n",
    "X=np.transpose(col[0:2])\n",
    "y=np.transpose(col[2:])\n"
   ]
  },
  {
   "cell_type": "code",
   "execution_count": null,
   "metadata": {},
   "outputs": [],
   "source": []
  },
  {
   "cell_type": "code",
   "execution_count": 777,
   "metadata": {},
   "outputs": [],
   "source": [
    "def featureNormalize(X):\n",
    "    X_norm=X\n",
    "    for i in range (X.shape[1]):\n",
    "        mu=np.mean(X[:,i])\n",
    "        sigma= np.std(X[:,i],ddof=1)\n",
    "#         print(mu ,sigma)\n",
    "        X_norm[:,i]= np.divide((X[:,i]-mu),sigma)\n",
    "\n",
    "    \n",
    "    return X_norm\n",
    "        "
   ]
  },
  {
   "cell_type": "code",
   "execution_count": 778,
   "metadata": {},
   "outputs": [],
   "source": [
    "X = featureNormalize(X)"
   ]
  },
  {
   "cell_type": "code",
   "execution_count": 779,
   "metadata": {},
   "outputs": [],
   "source": [
    "X = np.insert(X,0,1,axis=1)"
   ]
  },
  {
   "cell_type": "code",
   "execution_count": null,
   "metadata": {},
   "outputs": [],
   "source": []
  },
  {
   "cell_type": "code",
   "execution_count": 780,
   "metadata": {},
   "outputs": [],
   "source": [
    "alpha = 0.1\n",
    "num_iters = 100"
   ]
  },
  {
   "cell_type": "code",
   "execution_count": 781,
   "metadata": {
    "collapsed": true
   },
   "outputs": [],
   "source": [
    "theta= np.zeros((3,1))"
   ]
  },
  {
   "cell_type": "code",
   "execution_count": 782,
   "metadata": {},
   "outputs": [],
   "source": [
    "def computeCostMulti(X, y, theta):\n",
    "    m = y.size\n",
    "    J = 0\n",
    "    for i in range(m):\n",
    "        J=J + np.divide(1,(2*m))*np.power(np.matmul(np.transpose(theta),np.transpose(X[i,:]))-y[i],2)\n",
    "    return J"
   ]
  },
  {
   "cell_type": "code",
   "execution_count": 783,
   "metadata": {},
   "outputs": [],
   "source": [
    "def gradientDescentMulti(X, y, theta, alpha, num_iters):\n",
    "    m= y.size\n",
    "    k= theta.shape[0]\n",
    "    J_history=np.zeros(num_iters)\n",
    "    for iters in range(num_iters):\n",
    "        theta_temp=np.zeros((3,1))\n",
    "        for i in range(k):\n",
    "            diff= np.multiply((np.matmul(X , theta) - y) ,(X[:,i]).reshape((m,1)))\n",
    "            theta_temp[i] = theta[i] - ((alpha/m) * np.sum(diff))\n",
    "        \n",
    "        theta= theta_temp\n",
    "        J_history[iters]= computeCostMulti(X,y,theta)\n",
    "    return theta, J_history"
   ]
  },
  {
   "cell_type": "code",
   "execution_count": 784,
   "metadata": {},
   "outputs": [],
   "source": [
    "t=gradientDescentMulti(X, y, theta, alpha, num_iters)"
   ]
  },
  {
   "cell_type": "code",
   "execution_count": 785,
   "metadata": {},
   "outputs": [
    {
     "data": {
      "text/plain": [
       "(array([[ 340403.6177],\n",
       "        [ 109912.6785],\n",
       "        [  -5931.1091]]),\n",
       " array([  5.3294e+10,   4.3427e+10,   3.5500e+10,   2.9123e+10,\n",
       "          2.3987e+10,   1.9846e+10,   1.6504e+10,   1.3803e+10,\n",
       "          1.1620e+10,   9.8517e+09,   8.4192e+09,   7.2573e+09,\n",
       "          6.3139e+09,   5.5472e+09,   4.9234e+09,   4.4154e+09,\n",
       "          4.0011e+09,   3.6628e+09,   3.3862e+09,   3.1597e+09,\n",
       "          2.9740e+09,   2.8215e+09,   2.6959e+09,   2.5924e+09,\n",
       "          2.5068e+09,   2.4360e+09,   2.3772e+09,   2.3282e+09,\n",
       "          2.2874e+09,   2.2531e+09,   2.2244e+09,   2.2002e+09,\n",
       "          2.1797e+09,   2.1624e+09,   2.1476e+09,   2.1349e+09,\n",
       "          2.1241e+09,   2.1148e+09,   2.1067e+09,   2.0997e+09,\n",
       "          2.0936e+09,   2.0883e+09,   2.0836e+09,   2.0795e+09,\n",
       "          2.0759e+09,   2.0727e+09,   2.0698e+09,   2.0673e+09,\n",
       "          2.0650e+09,   2.0630e+09,   2.0611e+09,   2.0595e+09,\n",
       "          2.0580e+09,   2.0567e+09,   2.0555e+09,   2.0544e+09,\n",
       "          2.0534e+09,   2.0525e+09,   2.0517e+09,   2.0510e+09,\n",
       "          2.0503e+09,   2.0497e+09,   2.0492e+09,   2.0486e+09,\n",
       "          2.0482e+09,   2.0478e+09,   2.0474e+09,   2.0470e+09,\n",
       "          2.0467e+09,   2.0464e+09,   2.0462e+09,   2.0459e+09,\n",
       "          2.0457e+09,   2.0455e+09,   2.0453e+09,   2.0451e+09,\n",
       "          2.0450e+09,   2.0448e+09,   2.0447e+09,   2.0446e+09,\n",
       "          2.0445e+09,   2.0444e+09,   2.0443e+09,   2.0442e+09,\n",
       "          2.0441e+09,   2.0440e+09,   2.0440e+09,   2.0439e+09,\n",
       "          2.0439e+09,   2.0438e+09,   2.0438e+09,   2.0437e+09,\n",
       "          2.0437e+09,   2.0437e+09,   2.0436e+09,   2.0436e+09,\n",
       "          2.0436e+09,   2.0435e+09,   2.0435e+09,   2.0435e+09]))"
      ]
     },
     "execution_count": 785,
     "metadata": {},
     "output_type": "execute_result"
    }
   ],
   "source": [
    "t"
   ]
  },
  {
   "cell_type": "code",
   "execution_count": 786,
   "metadata": {},
   "outputs": [],
   "source": [
    "theta=t[0]\n",
    "J_history= t[1]"
   ]
  },
  {
   "cell_type": "code",
   "execution_count": 835,
   "metadata": {},
   "outputs": [
    {
     "data": {
      "image/png": "[encoded data removed]",
      "text/plain": [
       "<matplotlib.figure.Figure at 0x1191e5e48>"
      ]
     },
     "metadata": {},
     "output_type": "display_data"
    }
   ],
   "source": [
    "plt.figure(figsize=(10,6))\n",
    "plt.plot(J_history,'b-',markersize=10)\n",
    "plt.xlabel('Number of iterations')\n",
    "plt.ylabel('Cost J')\n",
    "plt.grid(True) #Always plot.grid true!"
   ]
  },
  {
   "cell_type": "code",
   "execution_count": 788,
   "metadata": {},
   "outputs": [
    {
     "name": "stdout",
     "output_type": "stream",
     "text": [
      "Theta computed from gradient descent: \n",
      "\n",
      "[[ 340403.6177]\n",
      " [ 109912.6785]\n",
      " [  -5931.1091]]\n"
     ]
    }
   ],
   "source": [
    "print('Theta computed from gradient descent: \\n')\n",
    "print(theta)"
   ]
  },
  {
   "cell_type": "code",
   "execution_count": 789,
   "metadata": {
    "collapsed": true
   },
   "outputs": [],
   "source": [
    "price = 0; \n",
    "price = np.matmul([1, 1650, 3] , theta)"
   ]
  },
  {
   "cell_type": "code",
   "execution_count": 790,
   "metadata": {},
   "outputs": [
    {
     "name": "stdout",
     "output_type": "stream",
     "text": [
      "Predicted price of a 1650 sq-ft, 3 br house (using gradient descent): 181678529.797\n"
     ]
    }
   ],
   "source": [
    "print('Predicted price of a 1650 sq-ft, 3 br house (using gradient descent):', price[0]);"
   ]
  },
  {
   "cell_type": "code",
   "execution_count": 791,
   "metadata": {
    "collapsed": true
   },
   "outputs": [],
   "source": [
    "datafile = 'ex1data2.txt'\n",
    "col= np.loadtxt(datafile,delimiter=',',usecols=(0,1,2),unpack=True)\n",
    "X=np.transpose(col[0:2])\n",
    "y=np.transpose(col[2:])\n",
    "X = np.insert(X,0,1,axis=1)"
   ]
  },
  {
   "cell_type": "code",
   "execution_count": 792,
   "metadata": {
    "collapsed": true
   },
   "outputs": [],
   "source": [
    "def normalEqn(X,y):\n",
    "    theta= np.zeros((X.shape[1],1))\n",
    "    theta =  np.matmul(np.matmul(np.linalg.pinv(np.matmul(np.transpose(X),X)),np.transpose(X)),y)\n",
    "    return theta"
   ]
  },
  {
   "cell_type": "code",
   "execution_count": 793,
   "metadata": {},
   "outputs": [],
   "source": [
    "theta = normalEqn(X,y)"
   ]
  },
  {
   "cell_type": "code",
   "execution_count": 794,
   "metadata": {},
   "outputs": [
    {
     "name": "stdout",
     "output_type": "stream",
     "text": [
      "Theta computed from the normal equations: \n",
      " [[ 89597.9095]\n",
      " [   139.2107]\n",
      " [ -8738.0191]]\n"
     ]
    }
   ],
   "source": [
    "print('Theta computed from the normal equations: \\n',theta)"
   ]
  },
  {
   "cell_type": "code",
   "execution_count": 795,
   "metadata": {},
   "outputs": [],
   "source": [
    "price = 0\n",
    "price = np.matmul([1, 1650, 3] ,theta)"
   ]
  },
  {
   "cell_type": "code",
   "execution_count": 796,
   "metadata": {},
   "outputs": [
    {
     "name": "stdout",
     "output_type": "stream",
     "text": [
      "Predicted price of a 1650 sq-ft, 3 br house (using normal equations): 293081.464335\n"
     ]
    }
   ],
   "source": [
    "print('Predicted price of a 1650 sq-ft, 3 br house (using normal equations):', price[0]);"
   ]
  },
  {
   "cell_type": "code",
   "execution_count": null,
   "metadata": {},
   "outputs": [],
   "source": []
  },
  {
   "cell_type": "code",
   "execution_count": null,
   "metadata": {},
   "outputs": [],
   "source": []
  },
  {
   "cell_type": "code",
   "execution_count": null,
   "metadata": {
    "collapsed": true
   },
   "outputs": [],
   "source": []
  },
  {
   "cell_type": "code",
   "execution_count": null,
   "metadata": {},
   "outputs": [],
   "source": []
  },
  {
   "cell_type": "code",
   "execution_count": null,
   "metadata": {
    "collapsed": true
   },
   "outputs": [],
   "source": []
  }
 ],
 "metadata": {
  "kernelspec": {
   "display_name": "Python 3",
   "language": "python",
   "name": "python3"
  },
  "language_info": {
   "codemirror_mode": {
    "name": "ipython",
    "version": 3
   },
   "file_extension": ".py",
   "mimetype": "text/x-python",
   "name": "python",
   "nbconvert_exporter": "python",
   "pygments_lexer": "ipython3",
   "version": "3.6.3"
  }
 },
 "nbformat": 4,
 "nbformat_minor": 2
}
