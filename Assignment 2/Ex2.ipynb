{
 "cells": [
  {
   "cell_type": "code",
   "execution_count": 34,
   "metadata": {
    "collapsed": true
   },
   "outputs": [],
   "source": [
    "%matplotlib inline\n",
    "import numpy as np\n",
    "import pandas as pd\n",
    "import matplotlib.pyplot as plt"
   ]
  },
  {
   "cell_type": "code",
   "execution_count": 35,
   "metadata": {
    "collapsed": true
   },
   "outputs": [],
   "source": [
    "df=pd.read_csv('ex2data1.txt',header=None)\n"
   ]
  },
  {
   "cell_type": "code",
   "execution_count": 36,
   "metadata": {
    "collapsed": true
   },
   "outputs": [],
   "source": [
    "def getX_y(df):\n",
    "    X= df.iloc[:,:-1].values\n",
    "    y= df.iloc[:,-1:].values\n",
    "    return X,y"
   ]
  },
  {
   "cell_type": "code",
   "execution_count": 37,
   "metadata": {
    "collapsed": true
   },
   "outputs": [],
   "source": [
    "X,y = getX_y(df)"
   ]
  },
  {
   "cell_type": "code",
   "execution_count": 38,
   "metadata": {
    "collapsed": true
   },
   "outputs": [],
   "source": [
    "def plotData(X,y):\n",
    "    pos = np.where(y==1)[0]\n",
    "    neg = np.where(y==0)[0]\n",
    "    plt.figure(figsize=(10,6))\n",
    "    plt.plot(X[pos,0],X[pos,1],'b+',markersize=8)\n",
    "    plt.plot(X[neg,0],X[neg,1],'yo',markersize=8)\n",
    "    plt.grid(True) #Always plot.grid true!\n",
    "    plt.ylabel('Exam2')\n",
    "    plt.xlabel('Exam1')"
   ]
  },
  {
   "cell_type": "code",
   "execution_count": 39,
   "metadata": {},
   "outputs": [
    {
     "data": {
      "image/png": "[encoded data removed]",
      "text/plain": [
       "<matplotlib.figure.Figure at 0x113a47a90>"
      ]
     },
     "metadata": {},
     "output_type": "display_data"
    }
   ],
   "source": [
    "plotData(X,y)"
   ]
  },
  {
   "cell_type": "code",
   "execution_count": 40,
   "metadata": {
    "collapsed": true
   },
   "outputs": [],
   "source": [
    "X = np.insert(X,0,1,axis=1)"
   ]
  },
  {
   "cell_type": "code",
   "execution_count": 41,
   "metadata": {
    "collapsed": true
   },
   "outputs": [],
   "source": [
    "m,n = X.shape"
   ]
  },
  {
   "cell_type": "code",
   "execution_count": 42,
   "metadata": {
    "collapsed": true
   },
   "outputs": [],
   "source": [
    "theta= np.zeros((n,1))\n"
   ]
  },
  {
   "cell_type": "code",
   "execution_count": 43,
   "metadata": {
    "collapsed": true
   },
   "outputs": [],
   "source": [
    "def sigmoid(x):\n",
    "    return 1 / (1 + np.exp(-x))"
   ]
  },
  {
   "cell_type": "code",
   "execution_count": 44,
   "metadata": {
    "collapsed": true
   },
   "outputs": [],
   "source": [
    "def costFunction(theta, X, y):\n",
    "    m= y.size\n",
    "    J=0\n",
    "    grad = np.zeros(theta.size) \n",
    "    p1= -1*np.multiply(y,(np.log(sigmoid(np.matmul(X,theta)))))\n",
    "    p2= np.multiply((1-y),(np.log(1-sigmoid(np.matmul(X,theta)))))\n",
    "    J= np.sum(p1-p2)/m\n",
    "#     grad= (X' * (sigmoid(X * theta) - y)) * (1/m);\n",
    "    grad= (np.matmul(np.transpose(X),(sigmoid(np.matmul(X,theta))-y)))*(1/m)\n",
    "    return J, grad"
   ]
  },
  {
   "cell_type": "code",
   "execution_count": 45,
   "metadata": {},
   "outputs": [],
   "source": [
    "cost , grad= costFunction(theta, X, y)\n"
   ]
  },
  {
   "cell_type": "code",
   "execution_count": 46,
   "metadata": {},
   "outputs": [
    {
     "name": "stdout",
     "output_type": "stream",
     "text": [
      "Cost at initial theta (zeros):  0.6931471805599453\n",
      "Expected cost (approx): 0.693\n",
      "Gradient at initial theta (zeros):\n",
      "[[ -0.1       ]\n",
      " [-12.00921659]\n",
      " [-11.26284221]]\n",
      "Expected gradients (approx):\n",
      " -0.1000\n",
      " -12.0092\n",
      " -11.2628\n",
      "\n"
     ]
    }
   ],
   "source": [
    "print('Cost at initial theta (zeros): ', cost);\n",
    "print('Expected cost (approx): 0.693');\n",
    "print('Gradient at initial theta (zeros):');\n",
    "print(grad);\n",
    "print('Expected gradients (approx):\\n -0.1000\\n -12.0092\\n -11.2628\\n');\n"
   ]
  },
  {
   "cell_type": "code",
   "execution_count": 47,
   "metadata": {
    "collapsed": true
   },
   "outputs": [],
   "source": [
    "test_theta = np.array([[-24], [0.2], [0.2]]);"
   ]
  },
  {
   "cell_type": "code",
   "execution_count": 48,
   "metadata": {
    "collapsed": true
   },
   "outputs": [],
   "source": [
    "cost, grad = costFunction(test_theta, X, y)"
   ]
  },
  {
   "cell_type": "code",
   "execution_count": 49,
   "metadata": {},
   "outputs": [
    {
     "name": "stdout",
     "output_type": "stream",
     "text": [
      "Cost at initial theta (zeros):  0.21833019382659796\n",
      "Expected cost (approx): 0.218\n",
      "Gradient at initial theta (zeros):\n",
      "[[0.04290299]\n",
      " [2.56623412]\n",
      " [2.64679737]]\n",
      "Expected gradients (approx):\n",
      " 0.043\n",
      " 2.566\n",
      " 2.647\n",
      "\n"
     ]
    }
   ],
   "source": [
    "print('Cost at initial theta (zeros): ', cost);\n",
    "print('Expected cost (approx): 0.218');\n",
    "print('Gradient at initial theta (zeros):');\n",
    "print(grad);\n",
    "print('Expected gradients (approx):\\n 0.043\\n 2.566\\n 2.647\\n');"
   ]
  },
  {
   "cell_type": "code",
   "execution_count": 50,
   "metadata": {
    "collapsed": true
   },
   "outputs": [],
   "source": [
    "def plotDecisionBoundary(X,y,theta):\n",
    "    plotData(X[:,[1,2]], y)\n",
    "    plot_x= np.array([np.amin(X[:,1])-2, np.amax(X[:,1])+2])\n",
    "    plot_y = np.multiply((np.divide(-1,theta[2])),(np.multiply(theta[1],plot_x )+ theta[0]))\n",
    "    line=plt.plot(plot_x, plot_y)\n",
    "                        "
   ]
  },
  {
   "cell_type": "code",
   "execution_count": 63,
   "metadata": {},
   "outputs": [
    {
     "data": {
      "image/png": "[encoded data removed]",
      "text/plain": [
       "<matplotlib.figure.Figure at 0x1140566a0>"
      ]
     },
     "metadata": {},
     "output_type": "display_data"
    }
   ],
   "source": [
    "theta=np.array(([-24.932946],[0.204407], [0.199618]))\n",
    "plotDecisionBoundary(X,y,theta)"
   ]
  },
  {
   "cell_type": "code",
   "execution_count": 52,
   "metadata": {
    "collapsed": true
   },
   "outputs": [],
   "source": [
    "prob = sigmoid(np.matmul(np.array([1, 45 ,85]) , theta))"
   ]
  },
  {
   "cell_type": "code",
   "execution_count": 53,
   "metadata": {},
   "outputs": [
    {
     "name": "stdout",
     "output_type": "stream",
     "text": [
      "For a student with scores 45 and 85, we predict an admission probability of 0.7743255642686264\n",
      "Expected value: 0.775 +/- 0.002\n"
     ]
    }
   ],
   "source": [
    "print('For a student with scores 45 and 85, we predict an admission probability of', prob);\n",
    "print('Expected value: 0.775 +/- 0.002');"
   ]
  },
  {
   "cell_type": "code",
   "execution_count": 65,
   "metadata": {
    "collapsed": true
   },
   "outputs": [],
   "source": [
    "def predict(theta, X):\n",
    "    m=X.size\n",
    "    p=sigmoid(np.matmul(X , theta))\n",
    "    p[p >=.5]=1\n",
    "    p[p <.5]=0\n",
    "    return p"
   ]
  },
  {
   "cell_type": "code",
   "execution_count": 66,
   "metadata": {
    "collapsed": true
   },
   "outputs": [],
   "source": [
    "p = predict(theta, X)"
   ]
  },
  {
   "cell_type": "code",
   "execution_count": 68,
   "metadata": {},
   "outputs": [
    {
     "name": "stdout",
     "output_type": "stream",
     "text": [
      "Train Accuracy:  89.0\n",
      "Expected accuracy (approx): 89.0\n"
     ]
    }
   ],
   "source": [
    "print('Train Accuracy: ', np.mean((p[:,0]==y[:,0]))*100)\n",
    "print('Expected accuracy (approx): 89.0')"
   ]
  },
  {
   "cell_type": "code",
   "execution_count": null,
   "metadata": {},
   "outputs": [],
   "source": []
  },
  {
   "cell_type": "code",
   "execution_count": null,
   "metadata": {},
   "outputs": [],
   "source": []
  },
  {
   "cell_type": "code",
   "execution_count": null,
   "metadata": {},
   "outputs": [],
   "source": []
  },
  {
   "cell_type": "code",
   "execution_count": null,
   "metadata": {
    "collapsed": true
   },
   "outputs": [],
   "source": []
  }
 ],
 "metadata": {
  "kernelspec": {
   "display_name": "Python 3",
   "language": "python",
   "name": "python3"
  },
  "language_info": {
   "codemirror_mode": {
    "name": "ipython",
    "version": 3
   },
   "file_extension": ".py",
   "mimetype": "text/x-python",
   "name": "python",
   "nbconvert_exporter": "python",
   "pygments_lexer": "ipython3",
   "version": "3.6.3"
  }
 },
 "nbformat": 4,
 "nbformat_minor": 2
}
